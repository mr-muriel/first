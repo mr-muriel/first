{
 "cells": [
  {
   "cell_type": "markdown",
   "metadata": {},
   "source": [
    "# Моя перша программа\n",
    "- простий вивід через `print`"
   ]
  },
  {
   "cell_type": "code",
   "execution_count": 1,
   "metadata": {},
   "outputs": [
    {
     "name": "stdout",
     "output_type": "stream",
     "text": [
      "Andrew start programming at 2022-08-30 10:29:02.673995\n"
     ]
    }
   ],
   "source": [
    "from datetime import datetime\n",
    "name = \"Andrew\"\n",
    "\n",
    "print(f\"{name} start programming at {datetime.now()}\")"
   ]
  },
  {
   "cell_type": "code",
   "execution_count": 2,
   "metadata": {},
   "outputs": [
    {
     "name": "stdout",
     "output_type": "stream",
     "text": [
      "StudentTKs\n"
     ]
    }
   ],
   "source": [
    "name = \"StudentTKs\"\n",
    "print(name)"
   ]
  }
 ],
 "metadata": {
  "kernelspec": {
   "display_name": "Python 3.10.4 64-bit",
   "language": "python",
   "name": "python3"
  },
  "language_info": {
   "codemirror_mode": {
    "name": "ipython",
    "version": 3
   },
   "file_extension": ".py",
   "mimetype": "text/x-python",
   "name": "python",
   "nbconvert_exporter": "python",
   "pygments_lexer": "ipython3",
   "version": "3.10.4"
  },
  "orig_nbformat": 4,
  "vscode": {
   "interpreter": {
    "hash": "3c3ab7b7f15a473ef3f747e1a60bf3794d457424a7727c807710825a4b9cac7c"
   }
  }
 },
 "nbformat": 4,
 "nbformat_minor": 2
}
